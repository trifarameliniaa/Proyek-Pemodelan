{
  "nbformat": 4,
  "nbformat_minor": 0,
  "metadata": {
    "colab": {
      "name": "K_means_data_nilai_mahasiswa.ipynb",
      "provenance": []
    },
    "kernelspec": {
      "name": "python3",
      "display_name": "Python 3"
    }
  },
  "cells": [
    {
      "cell_type": "markdown",
      "metadata": {
        "id": "y3C6XfKlYYDl"
      },
      "source": [
        "mengimportkan package yang kita butuhkan"
      ]
    },
    {
      "cell_type": "code",
      "metadata": {
        "id": "2N8dbIJAPhpb"
      },
      "source": [
        "import pandas as pd\n",
        "import numpy as np\n",
        "import seaborn as sns\n",
        "import matplotlib.pyplot as plt\n",
        "from sklearn.cluster import KMeans"
      ],
      "execution_count": 1,
      "outputs": []
    },
    {
      "cell_type": "markdown",
      "metadata": {
        "id": "6by6I4ndYHCH"
      },
      "source": [
        "Input data yang dimiliki"
      ]
    },
    {
      "cell_type": "code",
      "metadata": {
        "colab": {
          "base_uri": "https://localhost:8080/"
        },
        "id": "FSNUkXaeXvF7",
        "outputId": "53c48561-4492-4f07-fbb0-e0aa14b6b797"
      },
      "source": [
        "Nilai = pd.read_csv(\"https://raw.githubusercontent.com/trifarameliniaa/Proyek-Pemodelan/main/NilaiMahasiswa.csv\")\n",
        "print(Nilai)"
      ],
      "execution_count": 2,
      "outputs": [
        {
          "output_type": "stream",
          "text": [
            "    No Nama Mahasiswa  UTS  Tugas  UAS\n",
            "0    1            Roy   89     90   75\n",
            "1    2         Sintia   90     71   95\n",
            "2    3          Iqbal   70     75   80\n",
            "3    4          Dilan   45     65   59\n",
            "4    5          Ratna   65     75   53\n",
            "5    6          Merry   80     70   75\n",
            "6    7           Rudi   90     85   81\n",
            "7    8          Hafiz   70     70   73\n",
            "8    9           Gede   96     93   85\n",
            "9   10      Christian   60     55   48\n",
            "10  11         Justin   45     60   58\n",
            "11  12         Jesika   60     70   72\n",
            "12  13            Ayu   85     90   88\n",
            "13  14          Siska   52     68   55\n",
            "14  15        Reitama   40     60   70\n"
          ],
          "name": "stdout"
        }
      ]
    },
    {
      "cell_type": "markdown",
      "metadata": {
        "id": "8LIeEQtcZ7F3"
      },
      "source": [
        "Melihat Informasi dari setiap Variable"
      ]
    },
    {
      "cell_type": "code",
      "metadata": {
        "colab": {
          "base_uri": "https://localhost:8080/"
        },
        "id": "rS-vgnjjZ_jZ",
        "outputId": "766d448c-1e6e-4cc9-d080-28e6933a950e"
      },
      "source": [
        "Nilai.info()"
      ],
      "execution_count": 3,
      "outputs": [
        {
          "output_type": "stream",
          "text": [
            "<class 'pandas.core.frame.DataFrame'>\n",
            "RangeIndex: 15 entries, 0 to 14\n",
            "Data columns (total 5 columns):\n",
            " #   Column          Non-Null Count  Dtype \n",
            "---  ------          --------------  ----- \n",
            " 0   No              15 non-null     int64 \n",
            " 1   Nama Mahasiswa  15 non-null     object\n",
            " 2   UTS             15 non-null     int64 \n",
            " 3   Tugas           15 non-null     int64 \n",
            " 4   UAS             15 non-null     int64 \n",
            "dtypes: int64(4), object(1)\n",
            "memory usage: 728.0+ bytes\n"
          ],
          "name": "stdout"
        }
      ]
    },
    {
      "cell_type": "markdown",
      "metadata": {
        "id": "zW0tb24yb2UO"
      },
      "source": [
        "Menentukan variabel mana yang akan diklusterkan"
      ]
    },
    {
      "cell_type": "code",
      "metadata": {
        "colab": {
          "base_uri": "https://localhost:8080/"
        },
        "id": "o2wBkWqkcZjt",
        "outputId": "c45efe74-7f54-48d1-8d49-ab47dab43a8c"
      },
      "source": [
        "Nama = Nilai.iloc[:, 2:5]\n",
        "print(Nama)"
      ],
      "execution_count": 4,
      "outputs": [
        {
          "output_type": "stream",
          "text": [
            "    UTS  Tugas  UAS\n",
            "0    89     90   75\n",
            "1    90     71   95\n",
            "2    70     75   80\n",
            "3    45     65   59\n",
            "4    65     75   53\n",
            "5    80     70   75\n",
            "6    90     85   81\n",
            "7    70     70   73\n",
            "8    96     93   85\n",
            "9    60     55   48\n",
            "10   45     60   58\n",
            "11   60     70   72\n",
            "12   85     90   88\n",
            "13   52     68   55\n",
            "14   40     60   70\n"
          ],
          "name": "stdout"
        }
      ]
    },
    {
      "cell_type": "markdown",
      "metadata": {
        "id": "Pl3ZrolrfNhN"
      },
      "source": [
        "Mengubah variabel yang sebelumnya berbentuk data frame menjadi array"
      ]
    },
    {
      "cell_type": "code",
      "metadata": {
        "colab": {
          "base_uri": "https://localhost:8080/"
        },
        "id": "wQupETLBfcVM",
        "outputId": "2edb1066-3464-4f88-e2f0-def392d35df0"
      },
      "source": [
        "x_array = np.array(Nama)\n",
        "print(x_array)"
      ],
      "execution_count": 5,
      "outputs": [
        {
          "output_type": "stream",
          "text": [
            "[[89 90 75]\n",
            " [90 71 95]\n",
            " [70 75 80]\n",
            " [45 65 59]\n",
            " [65 75 53]\n",
            " [80 70 75]\n",
            " [90 85 81]\n",
            " [70 70 73]\n",
            " [96 93 85]\n",
            " [60 55 48]\n",
            " [45 60 58]\n",
            " [60 70 72]\n",
            " [85 90 88]\n",
            " [52 68 55]\n",
            " [40 60 70]]\n"
          ],
          "name": "stdout"
        }
      ]
    },
    {
      "cell_type": "markdown",
      "metadata": {
        "id": "_7RRLtxzflDj"
      },
      "source": [
        "Menentukan jumlah klasternya, Misal menjadi 3 klaster"
      ]
    },
    {
      "cell_type": "code",
      "metadata": {
        "colab": {
          "base_uri": "https://localhost:8080/"
        },
        "id": "0TK_lWMngPS2",
        "outputId": "1b4565a6-408c-4e5d-dfe8-a65727c18340"
      },
      "source": [
        "#Menentukan dan mengkonfigurasi fungsi kmeans\n",
        "kmeans =KMeans(n_clusters = 3, random_state=123)\n",
        "#Menentukan kluster dari data\n",
        "kmeans.fit(x_array)"
      ],
      "execution_count": 6,
      "outputs": [
        {
          "output_type": "execute_result",
          "data": {
            "text/plain": [
              "KMeans(algorithm='auto', copy_x=True, init='k-means++', max_iter=300,\n",
              "       n_clusters=3, n_init=10, n_jobs=None, precompute_distances='auto',\n",
              "       random_state=123, tol=0.0001, verbose=0)"
            ]
          },
          "metadata": {
            "tags": []
          },
          "execution_count": 6
        }
      ]
    },
    {
      "cell_type": "markdown",
      "metadata": {
        "id": "NxAoU31JhS9Y"
      },
      "source": [
        "Mencari nilai pusat dari masing-masing klaster"
      ]
    },
    {
      "cell_type": "code",
      "metadata": {
        "colab": {
          "base_uri": "https://localhost:8080/"
        },
        "id": "PU7-GzY0hYmN",
        "outputId": "f607a3b3-e423-4bd0-f412-5fd3e39fe18e"
      },
      "source": [
        "print(kmeans.cluster_centers_)"
      ],
      "execution_count": 7,
      "outputs": [
        {
          "output_type": "stream",
          "text": [
            "[[90.         85.8        84.8       ]\n",
            " [51.16666667 63.83333333 57.16666667]\n",
            " [70.         71.25       75.        ]]\n"
          ],
          "name": "stdout"
        }
      ]
    },
    {
      "cell_type": "markdown",
      "metadata": {
        "id": "HZsk9kSwhfZC"
      },
      "source": [
        "Kemudian tampilkan hasil klaster dan tambahkan kolom klaster kedalam data frame"
      ]
    },
    {
      "cell_type": "code",
      "metadata": {
        "colab": {
          "base_uri": "https://localhost:8080/"
        },
        "id": "ZJ5UfFa-huW_",
        "outputId": "65ee2658-ca63-4ebf-8570-83f9be524c3a"
      },
      "source": [
        "#Menampilkan hasil kluster\n",
        "print(kmeans.labels_)\n",
        "#Menambahkan kolom \"klaster\" dalam data frame\n",
        "Nama[\"klaster\"] = kmeans.labels_\n",
        "print(Nama)"
      ],
      "execution_count": 8,
      "outputs": [
        {
          "output_type": "stream",
          "text": [
            "[0 0 2 1 1 2 0 2 0 1 1 2 0 1 1]\n",
            "    UTS  Tugas  UAS  klaster\n",
            "0    89     90   75        0\n",
            "1    90     71   95        0\n",
            "2    70     75   80        2\n",
            "3    45     65   59        1\n",
            "4    65     75   53        1\n",
            "5    80     70   75        2\n",
            "6    90     85   81        0\n",
            "7    70     70   73        2\n",
            "8    96     93   85        0\n",
            "9    60     55   48        1\n",
            "10   45     60   58        1\n",
            "11   60     70   72        2\n",
            "12   85     90   88        0\n",
            "13   52     68   55        1\n",
            "14   40     60   70        1\n"
          ],
          "name": "stdout"
        }
      ]
    }
  ]
}